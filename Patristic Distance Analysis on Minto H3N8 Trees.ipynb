{
 "metadata": {
  "name": "",
  "signature": "sha256:40bcd9fcc01aea2eee48d26c797fad762e33a00eb18084c87f8bd84c24f35729"
 },
 "nbformat": 3,
 "nbformat_minor": 0,
 "worksheets": [
  {
   "cells": [
    {
     "cell_type": "code",
     "collapsed": false,
     "input": [
      "import pandas as pd\n",
      "import numpy as np\n",
      "import matplotlib.pyplot as plt\n",
      "import networkx as nx\n",
      "import brewer2mpl\n",
      "import colorsys\n",
      "import math\n",
      "import dendropy as dp\n",
      "\n",
      "from datetime import datetime\n",
      "from Bio import AlignIO, SeqIO\n",
      "from Bio.SeqRecord import SeqRecord\n",
      "from Bio.Seq import Seq\n",
      "from Levenshtein import distance\n",
      "from itertools import combinations, product, permutations\n",
      "from time import time\n",
      "from __future__ import division\n",
      "from collections import Counter, defaultdict\n",
      "from copy import deepcopy\n",
      "from random import shuffle, choice, sample\n",
      "from scipy.stats.mstats import mquantiles\n",
      "from scipy.stats import norm, expon, poisson\n",
      "from scipy.misc import comb\n",
      "from IPython.display import Math\n",
      "%matplotlib inline"
     ],
     "language": "python",
     "metadata": {},
     "outputs": [],
     "prompt_number": 450
    },
    {
     "cell_type": "code",
     "collapsed": false,
     "input": [
      "segment = 8\n",
      "supp = False"
     ],
     "language": "python",
     "metadata": {},
     "outputs": [],
     "prompt_number": 451
    },
    {
     "cell_type": "code",
     "collapsed": false,
     "input": [
      "tree = dp.Tree.get_from_path('20141201 KY H3N8 Segment {0}.nexus'.format(segment), 'nexus')\n",
      "tree"
     ],
     "language": "python",
     "metadata": {},
     "outputs": [
      {
       "metadata": {},
       "output_type": "pyout",
       "prompt_number": 452,
       "text": [
        "<Tree object at 0x12071e810>"
       ]
      }
     ],
     "prompt_number": 452
    },
    {
     "cell_type": "code",
     "collapsed": false,
     "input": [
      "len(tree.taxon_set)"
     ],
     "language": "python",
     "metadata": {},
     "outputs": [
      {
       "metadata": {},
       "output_type": "pyout",
       "prompt_number": 464,
       "text": [
        "319"
       ]
      }
     ],
     "prompt_number": 464
    },
    {
     "cell_type": "code",
     "collapsed": false,
     "input": [
      "# Y-tick, labels and xtick values\n",
      "yticks = dict()\n",
      "yticks[1] = np.arange(0, 16001, 4000)\n",
      "yticks[2] = np.arange(0, 30001, 10000)\n",
      "yticks[3] = np.arange(0, 16001, 4000)\n",
      "yticks[4] = np.arange(0, 20001, 10000)\n",
      "yticks[5] = np.arange(0, 30001, 10000)\n",
      "yticks[6] = np.arange(0, 30001, 10000)\n",
      "yticks[7] = np.arange(0, 30001, 10000)\n",
      "yticks[8] = np.arange(0, 30001, 10000)\n",
      "\n",
      "yticklabels = dict()\n",
      "yticklabels[1] = np.arange(0, 17, 4)\n",
      "yticklabels[2] = np.arange(0, 4, 1)\n",
      "yticklabels[3] = np.arange(0, 17, 4)\n",
      "yticklabels[4] = np.arange(0, 21, 10)\n",
      "yticklabels[5] = np.arange(0, 31, 10)\n",
      "yticklabels[6] = np.arange(0, 31, 10)\n",
      "yticklabels[7] = np.arange(0, 31, 10)\n",
      "yticklabels[8] = np.arange(0, 31, 10)\n",
      "\n",
      "xticks = dict()\n",
      "xticks[1] = np.arange(0, 121, 40)\n",
      "xticks[2] = np.arange(0, 21, 10)\n",
      "xticks[3] = np.arange(0, 21, 10)\n",
      "xticks[4] = np.arange(0, 21, 10)\n",
      "xticks[5] = np.arange(0, 21, 10)\n",
      "xticks[6] = np.arange(0, 21, 10)\n",
      "xticks[7] = np.arange(0, 21, 10)\n",
      "xticks[8] = np.arange(0, 21, 10)"
     ],
     "language": "python",
     "metadata": {},
     "outputs": [],
     "prompt_number": 453
    },
    {
     "cell_type": "code",
     "collapsed": false,
     "input": [
      "patristic_distances = dp.treecalc.PatristicDistanceMatrix(tree=tree).distances()\n",
      "fig = plt.figure(figsize=(1.5,1.5))\n",
      "ax = fig.add_subplot(111)\n",
      "if segment == 1:\n",
      "    bins = np.arange(0, 121, 10)\n",
      "else:\n",
      "    bins = np.arange(0, 21, 2)\n",
      "ax.hist(patristic_distances, bins=bins)\n",
      "ax.set_xlabel('Patristic Distance')\n",
      "ax.set_ylabel('Counts (10$^3$)')\n",
      "ax.set_title('All PDs'.format(segment))\n",
      "ax.set_yticks(yticks[segment])\n",
      "ax.set_yticklabels(yticklabels[segment])\n",
      "ax.set_xticks(xticks[segment])\n",
      "ax.annotate('d.', xy=(0,1), xycoords='figure fraction', ha='left', va='top')\n",
      "plt.subplots_adjust(left=0.25, right=0.9, top=0.85, bottom=0.25)\n",
      "plt.savefig('Segment {0} Patristic Distance Distribution.pdf'.format(segment))"
     ],
     "language": "python",
     "metadata": {},
     "outputs": [
      {
       "metadata": {},
       "output_type": "display_data",
       "png": "[encoded data removed]",
       "text": [
        "<matplotlib.figure.Figure at 0x11c3fef90>"
       ]
      }
     ],
     "prompt_number": 454
    },
    {
     "cell_type": "code",
     "collapsed": false,
     "input": [
      "# For supplementary figures.\n",
      "patristic_distances = dp.treecalc.PatristicDistanceMatrix(tree=tree).distances()\n",
      "fig = plt.figure(figsize=(1.5,1.5))\n",
      "ax = fig.add_subplot(111)\n",
      "if segment == 1:\n",
      "    bins = np.arange(0, 121, 10)\n",
      "else:\n",
      "    bins = np.arange(0, 21, 2)\n",
      "ax.hist(patristic_distances, bins=bins)\n",
      "ax.set_xlabel('Patristic Distance')\n",
      "ax.set_ylabel('Counts (10$^3$)')\n",
      "ax.set_title('Segment {0}'.format(segment))\n",
      "ax.set_yticks(yticks[segment])\n",
      "ax.set_yticklabels(yticklabels[segment])\n",
      "ax.set_xticks(xticks[segment])\n",
      "# ax.annotate('d.', xy=(0,1), xycoords='figure fraction', ha='left', va='top')\n",
      "plt.subplots_adjust(left=0.25, right=0.9, top=0.85, bottom=0.25)\n",
      "plt.savefig('Segment {0} Patristic Distance Distribution Supplementary.pdf'.format(segment))"
     ],
     "language": "python",
     "metadata": {},
     "outputs": [
      {
       "metadata": {},
       "output_type": "display_data",
       "png": "[encoded data removed]",
       "text": [
        "<matplotlib.figure.Figure at 0x11ea71190>"
       ]
      }
     ],
     "prompt_number": 455
    },
    {
     "cell_type": "code",
     "collapsed": false,
     "input": [
      "transmission_graph = nx.read_gpickle('Minto Flats.pkl')\n",
      "transmission_graph.nodes(data=True)\n",
      "for node in transmission_graph.nodes(data=True):\n",
      "    if node[1]['subtype'] != 'H3N8':\n",
      "        transmission_graph.remove_node(node[0])\n",
      "        # transmission_graph.nodes(data=True)"
     ],
     "language": "python",
     "metadata": {},
     "outputs": [],
     "prompt_number": 456
    },
    {
     "cell_type": "code",
     "collapsed": false,
     "input": [
      "len(transmission_graph.nodes())"
     ],
     "language": "python",
     "metadata": {},
     "outputs": [
      {
       "metadata": {},
       "output_type": "pyout",
       "prompt_number": 457,
       "text": [
        "319"
       ]
      }
     ],
     "prompt_number": 457
    },
    {
     "cell_type": "markdown",
     "metadata": {},
     "source": [
      "Because I don't have the taxa names identical between the tree and the transmission graph, therefore, I will use a \n",
      "dictionary mapping to map the taxa name in the graph to the taxa name in the tree."
     ]
    },
    {
     "cell_type": "code",
     "collapsed": false,
     "input": [
      "taxadict = {str(t).split(\"'\")[0].split(\"|\")[0].replace(\"_\", \" \").replace('-', '/'):t for t in tree.taxon_set}\n",
      "# taxadict"
     ],
     "language": "python",
     "metadata": {},
     "outputs": [],
     "prompt_number": 458
    },
    {
     "cell_type": "code",
     "collapsed": false,
     "input": [
      "graph_pds = []\n",
      "for (taxa1, taxa2) in transmission_graph.edges():\n",
      "    # Note here that when exporting the taxa names, I mistakenly replaced '-' with '/', as such\n",
      "    # names like blue-winged teal became blue/winged teal. Therefore, when reading in the isolate\n",
      "    # names from the transmission graph, we have to replace the '-' character with '/'.\n",
      "    taxa1 = taxa1.replace('-', '/')\n",
      "    taxa2 = taxa2.replace('-', '/')\n",
      "    t1 = taxadict[taxa1]\n",
      "    t2 = taxadict[taxa2]\n",
      "    pd = dp.treecalc.patristic_distance(tree, t1, t2)\n",
      "    graph_pds.append(pd)"
     ],
     "language": "python",
     "metadata": {},
     "outputs": [],
     "prompt_number": 459
    },
    {
     "cell_type": "code",
     "collapsed": false,
     "input": [
      "# Y-tick, labels and xtick values\n",
      "yticks = dict()\n",
      "yticks[1] = np.arange(0, 601, 200)\n",
      "yticks[2] = np.arange(0, 601, 200)\n",
      "yticks[3] = np.arange(0, 601, 200)\n",
      "yticks[4] = np.arange(0, 601, 200)\n",
      "yticks[5] = np.arange(0, 601, 200)\n",
      "yticks[6] = np.arange(0, 601, 200)\n",
      "yticks[7] = np.arange(0, 601, 200)\n",
      "yticks[8] = np.arange(0, 601, 200)\n",
      "\n",
      "yticklabels = dict()\n",
      "yticklabels[1] = np.arange(0, 7, 2)\n",
      "yticklabels[2] = np.arange(0, 7, 2)\n",
      "yticklabels[3] = np.arange(0, 7, 2)\n",
      "yticklabels[4] = np.arange(0, 7, 2)\n",
      "yticklabels[5] = np.arange(0, 7, 2)\n",
      "yticklabels[6] = np.arange(0, 7, 2)\n",
      "yticklabels[7] = np.arange(0, 7, 2)\n",
      "yticklabels[8] = np.arange(0, 7, 2)\n",
      "\n",
      "xticks = dict()\n",
      "xticks[1] = np.arange(0, 121, 40)\n",
      "xticks[2] = np.arange(0, 21, 10)\n",
      "xticks[3] = np.arange(0, 21, 10)\n",
      "xticks[4] = np.arange(0, 21, 10)\n",
      "xticks[5] = np.arange(0, 21, 10)\n",
      "xticks[6] = np.arange(0, 21, 10)\n",
      "xticks[7] = np.arange(0, 21, 10)\n",
      "xticks[8] = np.arange(0, 21, 10)"
     ],
     "language": "python",
     "metadata": {},
     "outputs": [],
     "prompt_number": 460
    },
    {
     "cell_type": "code",
     "collapsed": false,
     "input": [
      "# Make figure for patristic distance test comparison with \n",
      "fig = plt.figure(figsize=(1.5, 1.5))\n",
      "ax = fig.add_subplot(111)\n",
      "if segment == 1:\n",
      "    bins = np.arange(0, 121, 10)\n",
      "else:\n",
      "    bins = np.arange(0, 21, 2)\n",
      "ax.hist(graph_pds, color='r', bins=bins)\n",
      "ax.set_xlabel('Patristic Distance')\n",
      "ax.set_ylabel('Counts (10$^2$)')\n",
      "ax.set_title('Network PDs'.format(segment))\n",
      "ax.set_yticks(yticks[segment])\n",
      "ax.set_yticklabels(yticklabels[segment])\n",
      "ax.set_xticks(xticks[segment])\n",
      "ax.annotate('e.', xy=(0,1), xycoords='figure fraction', ha='left', va='top')\n",
      "plt.subplots_adjust(left=0.25, right=0.9, top=0.85, bottom=0.25)\n",
      "plt.savefig('Segment {0} Network Patristic Distances.pdf'.format(segment))"
     ],
     "language": "python",
     "metadata": {},
     "outputs": [
      {
       "metadata": {},
       "output_type": "display_data",
       "png": "[encoded data removed]",
       "text": [
        "<matplotlib.figure.Figure at 0x11e9df590>"
       ]
      }
     ],
     "prompt_number": 461
    },
    {
     "cell_type": "code",
     "collapsed": false,
     "input": [
      "# Make figure for patristic distance test panel in supplementary\n",
      "# Make figure for patristic distance test comparison with \n",
      "fig = plt.figure(figsize=(1.5, 1.5))\n",
      "ax = fig.add_subplot(111)\n",
      "if segment == 1:\n",
      "    bins = np.arange(0, 121, 10)\n",
      "else:\n",
      "    bins = np.arange(0, 21, 2)\n",
      "ax.hist(graph_pds, color='r', bins=bins)\n",
      "ax.set_xlabel('Patristic Distance')\n",
      "ax.set_ylabel('Counts (10$^2$)')\n",
      "ax.set_title('Segment {0}'.format(segment))\n",
      "ax.set_yticks(yticks[segment])\n",
      "ax.set_yticklabels(yticklabels[segment])\n",
      "ax.set_xticks(xticks[segment])\n",
      "# ax.annotate('e.', xy=(0,1), xycoords='figure fraction', ha='left', va='top')\n",
      "plt.subplots_adjust(left=0.25, right=0.9, top=0.85, bottom=0.25)\n",
      "plt.savefig('Segment {0} Network Patristic Distances Supplementary.pdf'.format(segment))"
     ],
     "language": "python",
     "metadata": {},
     "outputs": [
      {
       "metadata": {},
       "output_type": "display_data",
       "png": "[encoded data removed]",
       "text": [
        "<matplotlib.figure.Figure at 0x11ee30650>"
       ]
      }
     ],
     "prompt_number": 462
    },
    {
     "cell_type": "code",
     "collapsed": false,
     "input": [],
     "language": "python",
     "metadata": {},
     "outputs": [],
     "prompt_number": 462
    },
    {
     "cell_type": "code",
     "collapsed": false,
     "input": [],
     "language": "python",
     "metadata": {},
     "outputs": [],
     "prompt_number": 462
    }
   ],
   "metadata": {}
  }
 ]
}