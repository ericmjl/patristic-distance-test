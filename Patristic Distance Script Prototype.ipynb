{
 "metadata": {
  "name": "",
  "signature": "sha256:95624f59372763e105bf9d5da44e4012cd25102d3386e4befbf5d027cd7b48f7"
 },
 "nbformat": 3,
 "nbformat_minor": 0,
 "worksheets": [
  {
   "cells": [
    {
     "cell_type": "code",
     "collapsed": false,
     "input": [
      "import pandas as pd\n",
      "import numpy as np\n",
      "import matplotlib.pyplot as plt\n",
      "import networkx as nx\n",
      "import brewer2mpl\n",
      "import colorsys\n",
      "import math\n",
      "import dendropy as dp\n",
      "\n",
      "from datetime import datetime\n",
      "from Bio import AlignIO, SeqIO\n",
      "from Bio.SeqRecord import SeqRecord\n",
      "from Bio.Seq import Seq\n",
      "from Levenshtein import distance\n",
      "from itertools import combinations, product\n",
      "from time import time\n",
      "from __future__ import division\n",
      "from collections import Counter, defaultdict\n",
      "from copy import deepcopy\n",
      "from random import shuffle, choice, sample\n",
      "from scipy.stats.mstats import mquantiles\n",
      "from scipy.stats import norm, expon, poisson\n",
      "from scipy.misc import comb\n",
      "from IPython.display import Math\n",
      "%matplotlib inline"
     ],
     "language": "python",
     "metadata": {},
     "outputs": [],
     "prompt_number": 13
    },
    {
     "cell_type": "code",
     "collapsed": false,
     "input": [
      "tree = dp.Tree.get_from_path('H3N8_Seg1_Skyride_run2_3_4_5_2014-0915.nexus', 'nexus')\n",
      "tree"
     ],
     "language": "python",
     "metadata": {},
     "outputs": [
      {
       "metadata": {},
       "output_type": "pyout",
       "prompt_number": 14,
       "text": [
        "<Tree object at 0x11196ad10>"
       ]
      }
     ],
     "prompt_number": 14
    },
    {
     "cell_type": "markdown",
     "metadata": {},
     "source": [
      "Amongst the H3N8 isolates, here is the full range of patristic distances present in the PB2 gene tree."
     ]
    },
    {
     "cell_type": "code",
     "collapsed": false,
     "input": [
      "patristic_distances = dp.treecalc.PatristicDistanceMatrix(tree=tree).distances()\n",
      "plt.hist(patristic_distances)\n",
      "plt.xlabel('Patristic Distance')\n",
      "plt.ylabel('Counts')\n",
      "plt.title('Histogram of Patristic \\n Distances in the PB2 Tree')"
     ],
     "language": "python",
     "metadata": {},
     "outputs": [
      {
       "metadata": {},
       "output_type": "pyout",
       "prompt_number": 15,
       "text": [
        "<matplotlib.text.Text at 0x114b2a790>"
       ]
      },
      {
       "metadata": {},
       "output_type": "display_data",
       "png": "[encoded data removed]",
       "text": [
        "<matplotlib.figure.Figure at 0x114b13590>"
       ]
      }
     ],
     "prompt_number": 15
    },
    {
     "cell_type": "code",
     "collapsed": false,
     "input": [
      "transmission_graph = nx.read_gpickle('Minto Flats.pkl')\n",
      "transmission_graph.nodes(data=True)\n",
      "for node in transmission_graph.nodes(data=True):\n",
      "    if node[1]['subtype'] != 'H3N8':\n",
      "        transmission_graph.remove_node(node[0])\n",
      "        # transmission_graph.nodes(data=True)"
     ],
     "language": "python",
     "metadata": {},
     "outputs": [],
     "prompt_number": 16
    },
    {
     "cell_type": "code",
     "collapsed": false,
     "input": [
      "len(transmission_graph.nodes())"
     ],
     "language": "python",
     "metadata": {},
     "outputs": [
      {
       "metadata": {},
       "output_type": "pyout",
       "prompt_number": 17,
       "text": [
        "319"
       ]
      }
     ],
     "prompt_number": 17
    },
    {
     "cell_type": "markdown",
     "metadata": {},
     "source": [
      "Because I don't have the taxa names identical between the tree and the transmission graph, therefore, I will use a \n",
      "dictionary mapping to map the taxa name in the graph to the taxa name in the tree."
     ]
    },
    {
     "cell_type": "code",
     "collapsed": false,
     "input": [
      "taxadict = {str(t).split(\"'\")[0].split(\"|\")[0].replace(\"_\", \" \"):t for t in tree.taxon_set}\n",
      "# taxadict"
     ],
     "language": "python",
     "metadata": {},
     "outputs": [],
     "prompt_number": 18
    },
    {
     "cell_type": "code",
     "collapsed": false,
     "input": [
      "graph_pds = []\n",
      "for (taxa1, taxa2) in transmission_graph.edges():\n",
      "    # Note here that some of the taxa names present in the network are absent from the trees.\n",
      "    # As such, I will have to ask Kyle to re-run the H3N8 trees. Might take the chance to show\n",
      "    # him some Python.\n",
      "    if taxa1 in taxadict.keys() and taxa2 in taxadict.keys():\n",
      "        t1 = taxadict[taxa1]\n",
      "        t2 = taxadict[taxa2]\n",
      "        pd = dp.treecalc.patristic_distance(tree, t1, t2)\n",
      "        graph_pds.append(pd)"
     ],
     "language": "python",
     "metadata": {},
     "outputs": [],
     "prompt_number": 19
    },
    {
     "cell_type": "markdown",
     "metadata": {},
     "source": [
      "Aaaaand here, let's show what patristic distances we're capturing!"
     ]
    },
    {
     "cell_type": "code",
     "collapsed": false,
     "input": [
      "plt.hist(graph_pds)\n",
      "plt.xlabel('Patristic Distance')\n",
      "plt.ylabel('Counts')\n",
      "plt.title('Histogram of Patristic \\n Distances Captured by the Network')\n",
      "plt.show()"
     ],
     "language": "python",
     "metadata": {},
     "outputs": [
      {
       "metadata": {},
       "output_type": "display_data",
       "png": "[encoded data removed]",
       "text": [
        "<matplotlib.figure.Figure at 0x114b49f90>"
       ]
      }
     ],
     "prompt_number": 20
    },
    {
     "cell_type": "code",
     "collapsed": false,
     "input": [],
     "language": "python",
     "metadata": {},
     "outputs": [],
     "prompt_number": 20
    },
    {
     "cell_type": "code",
     "collapsed": false,
     "input": [],
     "language": "python",
     "metadata": {},
     "outputs": [],
     "prompt_number": 2
    },
    {
     "cell_type": "code",
     "collapsed": false,
     "input": [],
     "language": "python",
     "metadata": {},
     "outputs": []
    }
   ],
   "metadata": {}
  }
 ]
}